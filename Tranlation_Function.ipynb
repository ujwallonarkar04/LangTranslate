{
 "cells": [
  {
   "cell_type": "code",
   "execution_count": 1,
   "id": "79874a79",
   "metadata": {},
   "outputs": [],
   "source": [
    "import pandas as pd\n",
    "from googletrans import Translator\n",
    "import os\n",
    "import time\n"
   ]
  },
  {
   "cell_type": "code",
   "execution_count": null,
   "id": "8697285f",
   "metadata": {},
   "outputs": [],
   "source": [
    "os.chdir(\"E:\\Internship\\Assignment\")"
   ]
  },
  {
   "cell_type": "code",
   "execution_count": 3,
   "id": "28f089b4",
   "metadata": {},
   "outputs": [],
   "source": [
    "\n",
    "def translate_file(file_path, output_file_name, target_language='en'):\n",
    "    # Check file extension to read data appropriately\n",
    "    file_extension = os.path.splitext(file_path)[1]\n",
    "\n",
    "    # Read the file into a DataFrame\n",
    "    if file_extension.lower() == '.csv':\n",
    "        df = pd.read_csv(file_path)\n",
    "    elif file_extension.lower() in ['.xls', '.xlsx']:\n",
    "        df = pd.read_excel(file_path)\n",
    "    else:\n",
    "        print(\"Unsupported file format. Please provide a CSV or Excel file.\")\n",
    "        return\n",
    "\n",
    "    translator = Translator()\n",
    "\n",
    "    def translate_to_language(text):\n",
    "        try:\n",
    "            if pd.notnull(text):\n",
    "                translation = translator.translate(str(text), src='zh-cn', dest=target_language)\n",
    "                return translation.text\n",
    "            else:\n",
    "                return ''\n",
    "        except Exception as e:\n",
    "            print(f\"Translation error: {e}\")\n",
    "            return ''\n",
    "\n",
    "    translated_columns = [translate_to_language(col) for col in df.columns]\n",
    "    df.columns = translated_columns\n",
    "\n",
    "    start_time = time.time()\n",
    "\n",
    "    for column in df.columns:\n",
    "        df[column] = df[column].apply(translate_to_language)\n",
    "\n",
    "    end_time = time.time()\n",
    "    time_taken = end_time - start_time\n",
    "    print(f\"Time taken to translate and save: {time_taken} seconds\")\n",
    "\n",
    "    output_file_path = f\"Translated_{output_file_name}\"\n",
    "    df.to_excel(output_file_path, index=False)\n",
    "\n",
    "    print(f\"Translated file saved as: {output_file_path}\")\n",
    "\n",
    "\n"
   ]
  },
  {
   "cell_type": "code",
   "execution_count": 4,
   "id": "a8260148",
   "metadata": {},
   "outputs": [
    {
     "name": "stdout",
     "output_type": "stream",
     "text": [
      "Time taken to translate and save: 825.8251087665558 seconds\n"
     ]
    },
    {
     "name": "stderr",
     "output_type": "stream",
     "text": [
      "C:\\Users\\Dell\\AppData\\Local\\Temp\\ipykernel_6096\\2289952421.py:40: FutureWarning: As the xlwt package is no longer maintained, the xlwt engine will be removed in a future version of pandas. This is the only engine in pandas that supports writing in the xls format. Install openpyxl and write to an xlsx file instead. You can set the option io.excel.xls.writer to 'xlwt' to silence this warning. While this option is deprecated and will also raise a warning, it can be globally set and the warning suppressed.\n",
      "  df.to_excel(output_file_path, index=False)\n"
     ]
    },
    {
     "name": "stdout",
     "output_type": "stream",
     "text": [
      "Translated file saved as: Translated_Order_Export_Translated.xls\n"
     ]
    }
   ],
   "source": [
    "\n",
    "input_file = \"E:\\\\Internship\\\\Assignment\\\\Order Export.xls\"\n",
    "output_file = \"Order_Export_Translated.xls\"\n",
    "translate_file(input_file, output_file)"
   ]
  },
  {
   "cell_type": "code",
   "execution_count": null,
   "id": "c43e9a77",
   "metadata": {},
   "outputs": [],
   "source": []
  }
 ],
 "metadata": {
  "kernelspec": {
   "display_name": "Python 3 (ipykernel)",
   "language": "python",
   "name": "python3"
  },
  "language_info": {
   "codemirror_mode": {
    "name": "ipython",
    "version": 3
   },
   "file_extension": ".py",
   "mimetype": "text/x-python",
   "name": "python",
   "nbconvert_exporter": "python",
   "pygments_lexer": "ipython3",
   "version": "3.9.12"
  }
 },
 "nbformat": 4,
 "nbformat_minor": 5
}
